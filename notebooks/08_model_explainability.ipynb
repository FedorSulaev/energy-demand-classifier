{
 "cells": [
  {
   "cell_type": "code",
   "execution_count": 3,
   "id": "e8089579",
   "metadata": {},
   "outputs": [],
   "source": [
    "from pathlib import Path\n",
    "import pandas as pd\n",
    "import numpy as np\n",
    "import matplotlib.pyplot as plt\n",
    "import joblib\n"
   ]
  },
  {
   "cell_type": "code",
   "execution_count": 2,
   "id": "844843af",
   "metadata": {},
   "outputs": [
    {
     "name": "stdout",
     "output_type": "stream",
     "text": [
      "Full preprocessed dataframe: (54170, 26)\n",
      "              DateTime  Consumption  Production  Nuclear  Wind  Hydroelectric  \\\n",
      "0  2019-01-01 00:00:00         6352        6527     1395    79           1383   \n",
      "1  2019-01-01 01:00:00         6116        5701     1393    96           1112   \n",
      "2  2019-01-01 02:00:00         5873        5676     1393   142           1030   \n",
      "3  2019-01-01 03:00:00         5682        5603     1397   191            972   \n",
      "4  2019-01-01 04:00:00         5557        5454     1393   159            960   \n",
      "\n",
      "   Oil and Gas  Coal  Solar  Biomass  ...  demand_High  hour day_of_week  \\\n",
      "0         1896  1744      0       30  ...        False     0           1   \n",
      "1         1429  1641      0       30  ...        False     1           1   \n",
      "2         1465  1616      0       30  ...        False     2           1   \n",
      "3         1455  1558      0       30  ...        False     3           1   \n",
      "4         1454  1458      0       30  ...        False     4           1   \n",
      "\n",
      "   month  hour_sin  hour_cos   dow_sin  dow_cos  month_sin  month_cos  \n",
      "0      1  0.000000  1.000000  0.781831  0.62349        0.5   0.866025  \n",
      "1      1  0.258819  0.965926  0.781831  0.62349        0.5   0.866025  \n",
      "2      1  0.500000  0.866025  0.781831  0.62349        0.5   0.866025  \n",
      "3      1  0.707107  0.707107  0.781831  0.62349        0.5   0.866025  \n",
      "4      1  0.866025  0.500000  0.781831  0.62349        0.5   0.866025  \n",
      "\n",
      "[5 rows x 26 columns]\n",
      "Train split: (32502, 8) (32502,)\n",
      "Validation split: (10834, 8) (10834,)\n",
      "Test split: (10834, 8) (10834,)\n"
     ]
    }
   ],
   "source": [
    "processed_data_dir = Path(\"data/processed\")\n",
    "interim_data_dir = Path(\"data/interim\")\n",
    "\n",
    "df = pd.read_csv(interim_data_dir / \"02_data.csv\")\n",
    "print(\"Full preprocessed dataframe:\", df.shape)\n",
    "print(df.head())\n",
    "\n",
    "X_train = pd.read_csv(processed_data_dir / \"X_train_enhanced.csv\")\n",
    "X_val   = pd.read_csv(processed_data_dir / \"X_val_enhanced.csv\")\n",
    "X_test  = pd.read_csv(processed_data_dir / \"X_test_enhanced.csv\")\n",
    "\n",
    "y_train = pd.read_csv(processed_data_dir / \"y_train_enhanced.csv\").squeeze(\"columns\")\n",
    "y_val   = pd.read_csv(processed_data_dir / \"y_val_enhanced.csv\").squeeze(\"columns\")\n",
    "y_test  = pd.read_csv(processed_data_dir / \"y_test_enhanced.csv\").squeeze(\"columns\")\n",
    "\n",
    "print(\"Train split:\", X_train.shape, y_train.shape)\n",
    "print(\"Validation split:\", X_val.shape, y_val.shape)\n",
    "print(\"Test split:\", X_test.shape, y_test.shape)"
   ]
  },
  {
   "cell_type": "code",
   "execution_count": 4,
   "id": "d4818692",
   "metadata": {},
   "outputs": [
    {
     "name": "stdout",
     "output_type": "stream",
     "text": [
      "✅ Model loaded successfully.\n"
     ]
    }
   ],
   "source": [
    "model = joblib.load(\"outputs/models/xgb_model.pkl\")\n",
    "print(\"✅ Model loaded successfully.\")\n",
    "y_pred = model.predict(X_test)"
   ]
  },
  {
   "cell_type": "code",
   "execution_count": null,
   "id": "6430b3f1",
   "metadata": {},
   "outputs": [],
   "source": []
  }
 ],
 "metadata": {
  "kernelspec": {
   "display_name": "Python 3 (ipykernel)",
   "language": "python",
   "name": "python3"
  },
  "language_info": {
   "codemirror_mode": {
    "name": "ipython",
    "version": 3
   },
   "file_extension": ".py",
   "mimetype": "text/x-python",
   "name": "python",
   "nbconvert_exporter": "python",
   "pygments_lexer": "ipython3",
   "version": "3.13.5"
  }
 },
 "nbformat": 4,
 "nbformat_minor": 5
}
