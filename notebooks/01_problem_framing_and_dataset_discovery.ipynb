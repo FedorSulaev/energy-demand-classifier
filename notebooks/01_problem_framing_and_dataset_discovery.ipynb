{
 "cells": [
  {
   "cell_type": "markdown",
   "id": "e81045ea",
   "metadata": {},
   "source": [
    "# Notebook 01 – Problem Framing and Dataset Discovery\n",
    "\n",
    "## 1. Introduction\n",
    "In this notebook we define our machine learning problem and explore the dataset we will use.  \n",
    "The project focuses on **classifying hourly electricity demand in Romania** into **Low, Medium, and High tiers**.  \n",
    "This is motivated by sustainability concerns: better demand prediction allows grid operators to plan more efficiently, reduce fossil fuel reliance, and integrate more renewable energy sources.\n",
    "\n",
    "---\n",
    "\n",
    "## 2. Problem Definition\n",
    "\n",
    "### Problem Statement\n",
    "**Predict whether an hourly electricity consumption measurement will fall into Low, Medium, or High demand tier using data available up to that time (hour, day, season, weather) so that grid operators can plan ahead, reduce reliance on fossil fuels, and optimize imports/exports.**\n",
    "\n",
    "### CTHI Framing\n",
    "- **Context**: Electricity demand management for sustainability and energy security in Romania.  \n",
    "- **Task**: Multiclass classification (Low / Medium / High).  \n",
    "- **Hypothesis**: Demand depends on **time of day**, **day of week**, **season**, and possibly **external factors like temperature**.  \n",
    "- **Impact**: Accurate classification enables better grid planning, improved renewable integration, and supports SDG 7, 12, and 13.\n",
    "\n",
    "---\n",
    "\n",
    "## 3. Dataset Description\n",
    "We use the dataset **“Hourly electricity consumption and production in Romania”** ([Kaggle link](https://www.kaggle.com/datasets/stefancomanita/hourly-electricity-consumption-and-production)).\n",
    "\n",
    "- **Features**:\n",
    "  - Temporal: `hour`, `day_of_week`, `month`, `season`\n",
    "  - Target: `demand_class` (Low, Medium, High based on tertiles of consumption)\n",
    "\n",
    "⚠️ *Note*: We exclude production mix variables (coal, gas, hydro, nuclear, solar, wind, biomass, imports, exports) to avoid label leakage, since these are supply-side responses to demand.\n",
    "\n",
    "---"
   ]
  },
  {
   "cell_type": "code",
   "execution_count": 1,
   "id": "ee8cbb0b",
   "metadata": {},
   "outputs": [],
   "source": [
    "import pandas as pd"
   ]
  },
  {
   "cell_type": "code",
   "execution_count": 2,
   "id": "ad10a549",
   "metadata": {},
   "outputs": [
    {
     "data": {
      "text/html": [
       "<div>\n",
       "<style scoped>\n",
       "    .dataframe tbody tr th:only-of-type {\n",
       "        vertical-align: middle;\n",
       "    }\n",
       "\n",
       "    .dataframe tbody tr th {\n",
       "        vertical-align: top;\n",
       "    }\n",
       "\n",
       "    .dataframe thead th {\n",
       "        text-align: right;\n",
       "    }\n",
       "</style>\n",
       "<table border=\"1\" class=\"dataframe\">\n",
       "  <thead>\n",
       "    <tr style=\"text-align: right;\">\n",
       "      <th></th>\n",
       "      <th>DateTime</th>\n",
       "      <th>Consumption</th>\n",
       "      <th>Production</th>\n",
       "      <th>Nuclear</th>\n",
       "      <th>Wind</th>\n",
       "      <th>Hydroelectric</th>\n",
       "      <th>Oil and Gas</th>\n",
       "      <th>Coal</th>\n",
       "      <th>Solar</th>\n",
       "      <th>Biomass</th>\n",
       "    </tr>\n",
       "  </thead>\n",
       "  <tbody>\n",
       "    <tr>\n",
       "      <th>0</th>\n",
       "      <td>2019-01-01 00:00:00</td>\n",
       "      <td>6352</td>\n",
       "      <td>6527</td>\n",
       "      <td>1395</td>\n",
       "      <td>79</td>\n",
       "      <td>1383</td>\n",
       "      <td>1896</td>\n",
       "      <td>1744</td>\n",
       "      <td>0</td>\n",
       "      <td>30</td>\n",
       "    </tr>\n",
       "    <tr>\n",
       "      <th>1</th>\n",
       "      <td>2019-01-01 01:00:00</td>\n",
       "      <td>6116</td>\n",
       "      <td>5701</td>\n",
       "      <td>1393</td>\n",
       "      <td>96</td>\n",
       "      <td>1112</td>\n",
       "      <td>1429</td>\n",
       "      <td>1641</td>\n",
       "      <td>0</td>\n",
       "      <td>30</td>\n",
       "    </tr>\n",
       "    <tr>\n",
       "      <th>2</th>\n",
       "      <td>2019-01-01 02:00:00</td>\n",
       "      <td>5873</td>\n",
       "      <td>5676</td>\n",
       "      <td>1393</td>\n",
       "      <td>142</td>\n",
       "      <td>1030</td>\n",
       "      <td>1465</td>\n",
       "      <td>1616</td>\n",
       "      <td>0</td>\n",
       "      <td>30</td>\n",
       "    </tr>\n",
       "    <tr>\n",
       "      <th>3</th>\n",
       "      <td>2019-01-01 03:00:00</td>\n",
       "      <td>5682</td>\n",
       "      <td>5603</td>\n",
       "      <td>1397</td>\n",
       "      <td>191</td>\n",
       "      <td>972</td>\n",
       "      <td>1455</td>\n",
       "      <td>1558</td>\n",
       "      <td>0</td>\n",
       "      <td>30</td>\n",
       "    </tr>\n",
       "    <tr>\n",
       "      <th>4</th>\n",
       "      <td>2019-01-01 04:00:00</td>\n",
       "      <td>5557</td>\n",
       "      <td>5454</td>\n",
       "      <td>1393</td>\n",
       "      <td>159</td>\n",
       "      <td>960</td>\n",
       "      <td>1454</td>\n",
       "      <td>1458</td>\n",
       "      <td>0</td>\n",
       "      <td>30</td>\n",
       "    </tr>\n",
       "  </tbody>\n",
       "</table>\n",
       "</div>"
      ],
      "text/plain": [
       "              DateTime  Consumption  Production  Nuclear  Wind  Hydroelectric  \\\n",
       "0  2019-01-01 00:00:00         6352        6527     1395    79           1383   \n",
       "1  2019-01-01 01:00:00         6116        5701     1393    96           1112   \n",
       "2  2019-01-01 02:00:00         5873        5676     1393   142           1030   \n",
       "3  2019-01-01 03:00:00         5682        5603     1397   191            972   \n",
       "4  2019-01-01 04:00:00         5557        5454     1393   159            960   \n",
       "\n",
       "   Oil and Gas  Coal  Solar  Biomass  \n",
       "0         1896  1744      0       30  \n",
       "1         1429  1641      0       30  \n",
       "2         1465  1616      0       30  \n",
       "3         1455  1558      0       30  \n",
       "4         1454  1458      0       30  "
      ]
     },
     "execution_count": 2,
     "metadata": {},
     "output_type": "execute_result"
    }
   ],
   "source": [
    "# Load the CSV file (already in project repo under /data)\n",
    "df = pd.read_csv(\"data/raw/electricityConsumptionAndProductioction.csv\")\n",
    "\n",
    "df.head()"
   ]
  },
  {
   "cell_type": "markdown",
   "id": "5df7f484",
   "metadata": {},
   "source": [
    "---\n",
    "\n",
    "## 5. Define Target Variable\n",
    "We will transform continuous `consumption` into categorical demand tiers:\n",
    "- **Low**: bottom third of consumption values  \n",
    "- **Medium**: middle third  \n",
    "- **High**: top third  \n",
    "\n",
    "This makes the problem a clear multiclass classification task."
   ]
  },
  {
   "cell_type": "code",
   "execution_count": 3,
   "id": "7a6ddade",
   "metadata": {},
   "outputs": [
    {
     "data": {
      "text/plain": [
       "demand_class\n",
       "Medium    18063\n",
       "Low       18058\n",
       "High      18049\n",
       "Name: count, dtype: int64"
      ]
     },
     "execution_count": 3,
     "metadata": {},
     "output_type": "execute_result"
    }
   ],
   "source": [
    "# Create demand tiers from consumption\n",
    "df['demand_class'] = pd.qcut(df['Consumption'], q=3, labels=[\"Low\", \"Medium\", \"High\"])\n",
    "\n",
    "df['demand_class'].value_counts()"
   ]
  },
  {
   "cell_type": "markdown",
   "id": "e86174fa",
   "metadata": {},
   "source": [
    "---\n",
    "\n",
    "## 6. Feature Types\n",
    "\n",
    "| Feature Name | Variable Type | Role |\n",
    "|--------------|---------------|------|\n",
    "| `datetime`   | Categorical (time) | Raw input (will derive hour, day, season) |\n",
    "| `hour`       | Categorical | Predictor |\n",
    "| `day_of_week`| Categorical | Predictor |\n",
    "| `month`      | Categorical | Predictor |\n",
    "| `season`     | Categorical | Predictor |\n",
    "| `consumption`| Numerical | Used to derive label |\n",
    "| `demand_class` | Target (categorical) | Low / Medium / High |\n",
    "\n",
    "---\n",
    "\n",
    "## 7. Dataset Health Check\n",
    "We will examine:\n",
    "- Missing values\n",
    "- Duplicates\n",
    "- Outliers in consumption"
   ]
  },
  {
   "cell_type": "code",
   "execution_count": 4,
   "id": "6eca6cf0",
   "metadata": {},
   "outputs": [
    {
     "data": {
      "text/plain": [
       "(DateTime         0\n",
       " Consumption      0\n",
       " Production       0\n",
       " Nuclear          0\n",
       " Wind             0\n",
       " Hydroelectric    0\n",
       " Oil and Gas      0\n",
       " Coal             0\n",
       " Solar            0\n",
       " Biomass          0\n",
       " demand_class     0\n",
       " dtype: int64,\n",
       " np.int64(4),\n",
       " count    54170.000000\n",
       " mean      6526.463688\n",
       " std       1048.248455\n",
       " min       2922.000000\n",
       " 25%       5710.000000\n",
       " 50%       6474.000000\n",
       " 75%       7268.000000\n",
       " max       9615.000000\n",
       " Name: Consumption, dtype: float64)"
      ]
     },
     "execution_count": 4,
     "metadata": {},
     "output_type": "execute_result"
    }
   ],
   "source": [
    "# Missing values\n",
    "missing = df.isna().sum()\n",
    "\n",
    "# Duplicates\n",
    "duplicates = df.duplicated().sum()\n",
    "\n",
    "# Consumption outlier summary\n",
    "cons_stats = df['Consumption'].describe()\n",
    "\n",
    "missing, duplicates, cons_stats"
   ]
  },
  {
   "cell_type": "markdown",
   "id": "aa768ab2",
   "metadata": {},
   "source": []
  }
 ],
 "metadata": {
  "kernelspec": {
   "display_name": "Python 3 (ipykernel)",
   "language": "python",
   "name": "python3"
  }
 },
 "nbformat": 4,
 "nbformat_minor": 5
}
