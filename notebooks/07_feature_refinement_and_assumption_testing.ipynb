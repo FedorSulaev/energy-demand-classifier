{
 "cells": [
  {
   "cell_type": "code",
   "execution_count": 18,
   "id": "c15f5b41",
   "metadata": {},
   "outputs": [],
   "source": [
    "from pathlib import Path\n",
    "import pandas as pd\n",
    "import numpy as np\n",
    "import matplotlib.pyplot as plt\n",
    "from xgboost import XGBClassifier\n",
    "from sklearn.metrics import confusion_matrix, classification_report\n",
    "from sklearn.model_selection import train_test_split\n",
    "import joblib"
   ]
  },
  {
   "cell_type": "code",
   "execution_count": 2,
   "id": "73a9cd5c",
   "metadata": {},
   "outputs": [
    {
     "name": "stdout",
     "output_type": "stream",
     "text": [
      "Full preprocessed dataframe: (54170, 26)\n",
      "              DateTime  Consumption  Production  Nuclear  Wind  Hydroelectric  \\\n",
      "0  2019-01-01 00:00:00         6352        6527     1395    79           1383   \n",
      "1  2019-01-01 01:00:00         6116        5701     1393    96           1112   \n",
      "2  2019-01-01 02:00:00         5873        5676     1393   142           1030   \n",
      "3  2019-01-01 03:00:00         5682        5603     1397   191            972   \n",
      "4  2019-01-01 04:00:00         5557        5454     1393   159            960   \n",
      "\n",
      "   Oil and Gas  Coal  Solar  Biomass  ...  demand_High  hour day_of_week  \\\n",
      "0         1896  1744      0       30  ...        False     0           1   \n",
      "1         1429  1641      0       30  ...        False     1           1   \n",
      "2         1465  1616      0       30  ...        False     2           1   \n",
      "3         1455  1558      0       30  ...        False     3           1   \n",
      "4         1454  1458      0       30  ...        False     4           1   \n",
      "\n",
      "   month  hour_sin  hour_cos   dow_sin  dow_cos  month_sin  month_cos  \n",
      "0      1  0.000000  1.000000  0.781831  0.62349        0.5   0.866025  \n",
      "1      1  0.258819  0.965926  0.781831  0.62349        0.5   0.866025  \n",
      "2      1  0.500000  0.866025  0.781831  0.62349        0.5   0.866025  \n",
      "3      1  0.707107  0.707107  0.781831  0.62349        0.5   0.866025  \n",
      "4      1  0.866025  0.500000  0.781831  0.62349        0.5   0.866025  \n",
      "\n",
      "[5 rows x 26 columns]\n",
      "Train split: (32502, 6) (32502,)\n",
      "Validation split: (10834, 6) (10834,)\n",
      "Test split: (10834, 6) (10834,)\n"
     ]
    }
   ],
   "source": [
    "processed_data_dir = Path(\"data/processed\")\n",
    "interim_data_dir = Path(\"data/interim\")\n",
    "\n",
    "df = pd.read_csv(interim_data_dir / \"02_data.csv\")\n",
    "print(\"Full preprocessed dataframe:\", df.shape)\n",
    "print(df.head())\n",
    "\n",
    "X_train = pd.read_csv(processed_data_dir / \"X_train.csv\")\n",
    "X_val   = pd.read_csv(processed_data_dir / \"X_val.csv\")\n",
    "X_test  = pd.read_csv(processed_data_dir / \"X_test.csv\")\n",
    "\n",
    "y_train = pd.read_csv(processed_data_dir / \"y_train.csv\").squeeze(\"columns\")\n",
    "y_val   = pd.read_csv(processed_data_dir / \"y_val.csv\").squeeze(\"columns\")\n",
    "y_test  = pd.read_csv(processed_data_dir / \"y_test.csv\").squeeze(\"columns\")\n",
    "\n",
    "print(\"Train split:\", X_train.shape, y_train.shape)\n",
    "print(\"Validation split:\", X_val.shape, y_val.shape)\n",
    "print(\"Test split:\", X_test.shape, y_test.shape)"
   ]
  },
  {
   "cell_type": "code",
   "execution_count": 3,
   "id": "a05b3bfd",
   "metadata": {},
   "outputs": [],
   "source": [
    "xgb = XGBClassifier(\n",
    "    n_estimators=360,\n",
    "    learning_rate=0.15,\n",
    "    max_depth=3,\n",
    "    subsample=0.7,\n",
    "    colsample_bytree=0.8,\n",
    "    random_state=42,\n",
    "    n_jobs=-1\n",
    ")\n",
    "\n",
    "xgb.fit(X_train, y_train)\n",
    "y_pred = xgb.predict(X_test)"
   ]
  },
  {
   "cell_type": "code",
   "execution_count": 4,
   "id": "af2709a2",
   "metadata": {},
   "outputs": [
    {
     "name": "stdout",
     "output_type": "stream",
     "text": [
      "[[1069 1134 1408]\n",
      " [1073 1186 1354]\n",
      " [1132 1088 1390]]\n"
     ]
    }
   ],
   "source": [
    "conf_matrix = confusion_matrix(y_val, y_pred)\n",
    "print(conf_matrix)"
   ]
  },
  {
   "cell_type": "code",
   "execution_count": 5,
   "id": "897c5015",
   "metadata": {},
   "outputs": [
    {
     "name": "stdout",
     "output_type": "stream",
     "text": [
      "              precision    recall  f1-score   support\n",
      "\n",
      "         Low       0.82      0.74      0.78      3612\n",
      "      Medium       0.62      0.59      0.60      3612\n",
      "        High       0.73      0.84      0.78      3610\n",
      "\n",
      "    accuracy                           0.72     10834\n",
      "   macro avg       0.73      0.72      0.72     10834\n",
      "weighted avg       0.73      0.72      0.72     10834\n",
      "\n"
     ]
    }
   ],
   "source": [
    "print(classification_report(y_test, y_pred, target_names=[\"Low\",\"Medium\",\"High\"]))"
   ]
  },
  {
   "cell_type": "code",
   "execution_count": 6,
   "id": "be920c57",
   "metadata": {},
   "outputs": [
    {
     "data": {
      "image/png": "[encoded data removed]",
      "text/plain": [
       "<Figure size 640x480 with 1 Axes>"
      ]
     },
     "metadata": {},
     "output_type": "display_data"
    }
   ],
   "source": [
    "importances = xgb.feature_importances_\n",
    "plt.barh(X_train.columns, importances)\n",
    "plt.title('Feature Importance')\n",
    "plt.show()"
   ]
  },
  {
   "cell_type": "markdown",
   "id": "1c55ff41",
   "metadata": {},
   "source": [
    "## Feature Importance Analysis\n",
    "\n",
    "The feature importance results show a clear hierarchy among the temporal features:\n",
    "\n",
    "- **Strong predictors:**  \n",
    "  - `hour_cos` (~0.27), `dow_sin` (~0.22), and `hour_sin` (~0.21) dominate, confirming that **time of day** and **day of week** cycles are the primary drivers of electricity demand tiers.  \n",
    "- **Moderate predictors:**  \n",
    "  - `month_cos` (~0.16) contributes moderately, reflecting seasonal effects.  \n",
    "- **Weak predictors:**  \n",
    "  - `month_sin` (~0.09) provides little additional information beyond `month_cos`.  \n",
    "  - `dow_cos` (~0.05) is the weakest, suggesting redundancy when `dow_sin` is already included.  \n",
    "\n",
    "---\n",
    "\n",
    "## Next Steps\n",
    "\n",
    "1. **Feature Reduction**  \n",
    "   - Consider **dropping `dow_cos`** to simplify the model without sacrificing performance.  \n",
    "   - Re-evaluate if `month_sin` adds enough value; it may be replaced by simpler seasonal groupings.  \n",
    "\n",
    "2. **Feature Enhancement**  \n",
    "   - Explore **categorical seasonal features** (Winter, Spring, Summer, Fall) instead of relying on month sine/cos transforms.  \n",
    "   - Introduce **public holiday features** (`is_holiday`, `holiday_window`) to better capture irregular demand patterns. These may especially improve classification of the **Medium demand class**, which all models currently struggle with.  \n",
    "\n",
    "3. **Model Iteration**  \n",
    "   - Retrain ensembles (XGBoost, Voting, Stacking) after dropping/adjusting weaker features.  \n",
    "   - Compare performance, focusing on macro F1 and Medium class recall.  \n",
    "\n",
    "---\n",
    "\n",
    "### Conclusion\n",
    "The models are learning demand cycles well, but **Medium demand remains a weak spot**. Dropping redundant features (`dow_cos`) and enriching seasonality with **holiday or seasonal categorical features** is the most promising direction for improving classification performance beyond the current ~0.72 macro F1 plateau."
   ]
  },
  {
   "cell_type": "code",
   "execution_count": 7,
   "id": "b11e8e70",
   "metadata": {},
   "outputs": [],
   "source": [
    "for col in X_train.columns:\n",
    "    if abs(X_train[col].corr(y_train)) > 0.95:\n",
    "        print(f\"{col} looks suspiciously correlated! Possible leakage.\")"
   ]
  },
  {
   "cell_type": "code",
   "execution_count": 8,
   "id": "2540d050",
   "metadata": {},
   "outputs": [
    {
     "name": "stdout",
     "output_type": "stream",
     "text": [
      "Reduced Feature Set (without dow_cos):\n",
      "              precision    recall  f1-score   support\n",
      "\n",
      "         Low       0.82      0.74      0.78      3612\n",
      "      Medium       0.62      0.59      0.61      3612\n",
      "        High       0.73      0.83      0.78      3610\n",
      "\n",
      "    accuracy                           0.72     10834\n",
      "   macro avg       0.72      0.72      0.72     10834\n",
      "weighted avg       0.72      0.72      0.72     10834\n",
      "\n"
     ]
    }
   ],
   "source": [
    "# Drop dow_cos from train/validation/test\n",
    "X_train_reduced = X_train.drop(columns=[\"dow_cos\"])\n",
    "X_val_reduced = X_val.drop(columns=[\"dow_cos\"])\n",
    "X_test_reduced = X_test.drop(columns=[\"dow_cos\"])\n",
    "\n",
    "# Retrain model (example: XGBoost)\n",
    "xgb_reduced = XGBClassifier(\n",
    "    n_estimators=360,\n",
    "    learning_rate=0.15,\n",
    "    max_depth=3,\n",
    "    subsample=0.7,\n",
    "    colsample_bytree=0.8,\n",
    "    random_state=42,\n",
    "    n_jobs=-1\n",
    ")\n",
    "\n",
    "xgb_reduced.fit(X_train_reduced, y_train)\n",
    "\n",
    "# Evaluate\n",
    "y_pred_reduced = xgb_reduced.predict(X_test_reduced)\n",
    "print(\"Reduced Feature Set (without dow_cos):\")\n",
    "print(classification_report(y_test, y_pred_reduced, target_names=[\"Low\",\"Medium\",\"High\"]))"
   ]
  },
  {
   "cell_type": "code",
   "execution_count": 9,
   "id": "c107ab8a",
   "metadata": {},
   "outputs": [
    {
     "data": {
      "image/png": "[encoded data removed]",
      "text/plain": [
       "<Figure size 640x480 with 1 Axes>"
      ]
     },
     "metadata": {},
     "output_type": "display_data"
    }
   ],
   "source": [
    "importances = xgb_reduced.feature_importances_\n",
    "plt.barh(X_train_reduced.columns, importances)\n",
    "plt.title('Feature Importance for reduced dataset')\n",
    "plt.show()"
   ]
  },
  {
   "cell_type": "code",
   "execution_count": 10,
   "id": "7861e681",
   "metadata": {},
   "outputs": [
    {
     "name": "stdout",
     "output_type": "stream",
     "text": [
      "✅ Holiday features added\n"
     ]
    }
   ],
   "source": [
    "holidays = {\n",
    "    (1, 1), (1, 2),          # New Year\n",
    "    (1, 24),                 # Unification Day\n",
    "    (5, 1),                  # Labour Day\n",
    "    (6, 1),                  # Children’s Day\n",
    "    (8, 15),                 # Assumption\n",
    "    (11, 30),                # St. Andrew\n",
    "    (12, 1),                 # National Day\n",
    "    (12, 25), (12, 26)       # Christmas\n",
    "}\n",
    "df[\"DateTime\"] = pd.to_datetime(df[\"DateTime\"], errors=\"coerce\")\n",
    "df[\"is_holiday\"] = df[\"DateTime\"].apply(lambda x: (x.month, x.day) in holidays).astype(int)\n",
    "\n",
    "df[\"is_holiday_window\"] = df[\"DateTime\"].apply(\n",
    "    lambda x: ((x.month, x.day-1) in holidays) or ((x.month, x.day+1) in holidays)\n",
    ").astype(int)\n",
    "\n",
    "print(\"✅ Holiday features added\")"
   ]
  },
  {
   "cell_type": "code",
   "execution_count": 11,
   "id": "9e12b341",
   "metadata": {},
   "outputs": [],
   "source": [
    "def create_stratified_splits(X, y, test_size=0.2, val_size=0.2, random_state=42):\n",
    "    \"\"\"Create stratified train/validation/test splits\"\"\"\n",
    "    \n",
    "    # First split: separate test set\n",
    "    X_temp, X_test, y_temp, y_test = train_test_split(\n",
    "        X, y, test_size=test_size, stratify=y, random_state=random_state\n",
    "    )\n",
    "    \n",
    "    # Second split: separate train/validation from remaining data\n",
    "    val_size_adjusted = val_size / (1 - test_size)  # Adjust for remaining data\n",
    "    X_train, X_val, y_train, y_val = train_test_split(\n",
    "        X_temp, y_temp, test_size=val_size_adjusted, \n",
    "        stratify=y_temp, random_state=random_state\n",
    "    )\n",
    "    \n",
    "    # Verify class distributions\n",
    "    print(\"Class distributions:\")\n",
    "    print(f\"Train: {y_train.value_counts(normalize=True)}\")\n",
    "    print(f\"Val:   {y_val.value_counts(normalize=True)}\")  \n",
    "    print(f\"Test:  {y_test.value_counts(normalize=True)}\")\n",
    "    \n",
    "    return X_train, X_val, X_test, y_train, y_val, y_test"
   ]
  },
  {
   "cell_type": "code",
   "execution_count": 12,
   "id": "cd18a0cb",
   "metadata": {},
   "outputs": [
    {
     "name": "stdout",
     "output_type": "stream",
     "text": [
      "Class distributions:\n",
      "Train: demand_class_encoded\n",
      "2    0.333456\n",
      "1    0.333364\n",
      "0    0.333179\n",
      "Name: proportion, dtype: float64\n",
      "Val:   demand_class_encoded\n",
      "2    0.333487\n",
      "1    0.333303\n",
      "0    0.333210\n",
      "Name: proportion, dtype: float64\n",
      "Test:  demand_class_encoded\n",
      "1    0.333395\n",
      "2    0.333395\n",
      "0    0.333210\n",
      "Name: proportion, dtype: float64\n"
     ]
    }
   ],
   "source": [
    "features = [\n",
    "    \"hour_sin\", \"hour_cos\",\n",
    "    \"dow_sin\", \"dow_cos\",\n",
    "    \"month_sin\", \"month_cos\",\n",
    "    \"is_holiday\", \"is_holiday_window\"\n",
    "]\n",
    "target = \"demand_class_encoded\"\n",
    "\n",
    "X = df[features]\n",
    "y = df[target]\n",
    "X_train, X_val, X_test, y_train, y_val, y_test = create_stratified_splits(X, y)"
   ]
  },
  {
   "cell_type": "code",
   "execution_count": 13,
   "id": "2174e562",
   "metadata": {},
   "outputs": [],
   "source": [
    "xgb.fit(X_train, y_train)\n",
    "y_pred = xgb.predict(X_test)"
   ]
  },
  {
   "cell_type": "code",
   "execution_count": 14,
   "id": "9ca6d1ee",
   "metadata": {},
   "outputs": [
    {
     "name": "stdout",
     "output_type": "stream",
     "text": [
      "              precision    recall  f1-score   support\n",
      "\n",
      "         Low       0.75      0.82      0.78      3610\n",
      "      Medium       0.83      0.78      0.81      3612\n",
      "        High       0.62      0.60      0.61      3612\n",
      "\n",
      "    accuracy                           0.74     10834\n",
      "   macro avg       0.74      0.74      0.73     10834\n",
      "weighted avg       0.74      0.74      0.73     10834\n",
      "\n"
     ]
    }
   ],
   "source": [
    "print(classification_report(y_test, y_pred, target_names=[\"Low\",\"Medium\",\"High\"]))"
   ]
  },
  {
   "cell_type": "code",
   "execution_count": 15,
   "id": "d0411ecb",
   "metadata": {},
   "outputs": [
    {
     "name": "stdout",
     "output_type": "stream",
     "text": [
      "[[1316 1149 1145]\n",
      " [1345 1098 1168]\n",
      " [1298 1142 1173]]\n"
     ]
    }
   ],
   "source": [
    "conf_matrix = confusion_matrix(y_val, y_pred)\n",
    "print(conf_matrix)"
   ]
  },
  {
   "cell_type": "code",
   "execution_count": 16,
   "id": "6f3db3ec",
   "metadata": {},
   "outputs": [
    {
     "data": {
      "image/png": "[encoded data removed]",
      "text/plain": [
       "<Figure size 640x480 with 1 Axes>"
      ]
     },
     "metadata": {},
     "output_type": "display_data"
    }
   ],
   "source": [
    "importances = xgb.feature_importances_\n",
    "plt.barh(X_train.columns, importances)\n",
    "plt.title('Feature Importance')\n",
    "plt.show()"
   ]
  },
  {
   "cell_type": "code",
   "execution_count": 17,
   "id": "6bcd8258",
   "metadata": {},
   "outputs": [],
   "source": [
    "X_train.to_csv(processed_data_dir / \"X_train_enhanced.csv\", index=False)\n",
    "X_val.to_csv(processed_data_dir / \"X_val_enhanced.csv\", index=False)\n",
    "X_test.to_csv(processed_data_dir / \"X_test_enhanced.csv\", index=False)\n",
    "\n",
    "y_train.to_csv(processed_data_dir / \"y_train_enhanced.csv\", index=False)\n",
    "y_val.to_csv(processed_data_dir / \"y_val_enhanced.csv\", index=False)\n",
    "y_test.to_csv(processed_data_dir / \"y_test_enhanced.csv\", index=False)"
   ]
  },
  {
   "cell_type": "markdown",
   "id": "0b15f868",
   "metadata": {},
   "source": [
    "# Holiday Feature Impact – Model Performance Summary\n",
    "\n",
    "## Overall Results\n",
    "- **Accuracy:** 0.74 (↑ from ~0.72 baseline)  \n",
    "- **Macro F1:** 0.73–0.74 (↑ from ~0.72 baseline)  \n",
    "\n",
    "The addition of `is_holiday` and `is_holiday_window` provides a measurable improvement in overall performance.\n",
    "\n",
    "---\n",
    "\n",
    "## Per-Class Performance\n",
    "- **Low demand:** Precision 0.75, Recall 0.82, F1 0.78  \n",
    "  → Recall improved, the model is better at detecting Low demand days.  \n",
    "\n",
    "- **Medium demand:** Precision 0.83, Recall 0.78, F1 0.81  \n",
    "  → Significant improvement (baseline F1 ≈ 0.60). Holidays help separate Medium demand more clearly.  \n",
    "\n",
    "- **High demand:** Precision 0.62, Recall 0.60, F1 0.61  \n",
    "  → Performance dropped compared to baseline (F1 ≈ 0.78). The model shifts attention toward Low/Medium classification.\n",
    "\n",
    "---\n",
    "\n",
    "## Feature Importance Insights\n",
    "- **Top drivers:** `hour_cos`, `hour_sin`, `dow_sin` (daily/weekly cycles).  \n",
    "- **Seasonality:** `month_cos` shows moderate influence.  \n",
    "- **Holidays:** `is_holiday` has clear impact (~0.08 importance), `is_holiday_window` weaker but still contributing.  \n",
    "- **Weakest feature:** `dow_cos` remains a safe candidate for removal.\n",
    "\n",
    "---\n",
    "\n",
    "## Conclusion\n",
    "- Adding holidays **significantly improved Medium demand classification** and overall metrics.  \n",
    "- However, this comes at the cost of reduced performance on High demand.  \n",
    "\n",
    "---\n",
    "\n",
    "## Next Steps\n",
    "1. **Rebalance High demand**: try class weights or custom loss functions.  \n",
    "2. **Simplify features**: remove `dow_cos` and re-evaluate.  \n",
    "3. **Enhance holidays**: distinguish between industrial closures vs seasonal holidays.  \n",
    "4. **Add lag features**: include previous day/hour consumption to recover High demand accuracy while keeping Medium improvements."
   ]
  },
  {
   "cell_type": "code",
   "execution_count": 19,
   "id": "6a8ca5fc",
   "metadata": {},
   "outputs": [
    {
     "name": "stdout",
     "output_type": "stream",
     "text": [
      "✅ Model saved to outputs/models/xgb_model.pkl\n"
     ]
    }
   ],
   "source": [
    "joblib.dump(xgb, \"outputs/models/xgb_model.pkl\")\n",
    "\n",
    "print(\"✅ Model saved to outputs/models/xgb_model.pkl\")"
   ]
  },
  {
   "cell_type": "code",
   "execution_count": null,
   "id": "0635f726",
   "metadata": {},
   "outputs": [],
   "source": []
  }
 ],
 "metadata": {
  "kernelspec": {
   "display_name": "Python 3 (ipykernel)",
   "language": "python",
   "name": "python3"
  },
  "language_info": {
   "codemirror_mode": {
    "name": "ipython",
    "version": 3
   },
   "file_extension": ".py",
   "mimetype": "text/x-python",
   "name": "python",
   "nbconvert_exporter": "python",
   "pygments_lexer": "ipython3",
   "version": "3.13.5"
  }
 },
 "nbformat": 4,
 "nbformat_minor": 5
}
